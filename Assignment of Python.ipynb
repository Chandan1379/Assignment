{
 "cells": [
  {
   "cell_type": "markdown",
   "id": "80e04ede",
   "metadata": {},
   "source": [
    "# Q(1). Who developed Python Programming Language?"
   ]
  },
  {
   "cell_type": "markdown",
   "id": "ee554117",
   "metadata": {},
   "source": [
    "Ans. :- Python Programming Language was developed by Guido Van Rossum.  "
   ]
  },
  {
   "cell_type": "markdown",
   "id": "0928e45d",
   "metadata": {},
   "source": [
    "# Q(2). Which type of Programming does Python support?"
   ]
  },
  {
   "cell_type": "markdown",
   "id": "ea19926d",
   "metadata": {},
   "source": [
    "Ans. :- Python supports scripting language as well as object oriented programming concept."
   ]
  },
  {
   "cell_type": "markdown",
   "id": "b2e524dd",
   "metadata": {},
   "source": [
    "# Q(3). Is Python case sensitive when dealing with identifiers?"
   ]
  },
  {
   "cell_type": "markdown",
   "id": "128ea69d",
   "metadata": {},
   "source": [
    "Ans. :- Yes, Python is a case sensitive programming language that means it considers lowercase and uppercase characters in a different way."
   ]
  },
  {
   "cell_type": "markdown",
   "id": "2de348af",
   "metadata": {},
   "source": [
    "# Q(4). What is the correct extension of Python file?"
   ]
  },
  {
   "cell_type": "markdown",
   "id": "b1e18186",
   "metadata": {},
   "source": [
    "Ans. :- The correct extension of Python file is .py"
   ]
  },
  {
   "cell_type": "markdown",
   "id": "23eb7dc5",
   "metadata": {},
   "source": [
    "# Q(5). Is Python code compiled or interpreted?"
   ]
  },
  {
   "cell_type": "markdown",
   "id": "a94730fe",
   "metadata": {},
   "source": [
    "Ans. :- Python code is interpreted."
   ]
  },
  {
   "cell_type": "markdown",
   "id": "af68fa49",
   "metadata": {},
   "source": [
    "# Q(6). Name a few blocks of code used to define in Python language?"
   ]
  },
  {
   "cell_type": "markdown",
   "id": "6faa8c26",
   "metadata": {},
   "source": [
    "Ans. :- Few blocks of code that is used to define in python language are indentation, comments and statements."
   ]
  },
  {
   "cell_type": "markdown",
   "id": "ff2ea326",
   "metadata": {},
   "source": [
    "# Q(7). State a character used to give single-line comments in Python?"
   ]
  },
  {
   "cell_type": "markdown",
   "id": "8b00a9ae",
   "metadata": {},
   "source": [
    "Ans. :- Pawn(#) symbol is used to give single-line comments in Python."
   ]
  },
  {
   "cell_type": "markdown",
   "id": "3aaba7b2",
   "metadata": {},
   "source": [
    "# Q(8). Mention functions which can help us to find the version of python that we are currently working on?"
   ]
  },
  {
   "cell_type": "markdown",
   "id": "932eb4ee",
   "metadata": {},
   "source": [
    "Ans. :- python --version is used to find the version of python."
   ]
  },
  {
   "cell_type": "markdown",
   "id": "92693075",
   "metadata": {},
   "source": [
    "# Q(9). Python supports the creation of anonymous functions at runtime, using a construct called?"
   ]
  },
  {
   "cell_type": "markdown",
   "id": "b8762461",
   "metadata": {},
   "source": [
    "Ans. :- Python supports the creation of anonymous functions at runtime, using a construct called lambda. "
   ]
  },
  {
   "cell_type": "markdown",
   "id": "b5f5ef1f",
   "metadata": {},
   "source": [
    "# Q(10). what does pip stands for python?"
   ]
  },
  {
   "cell_type": "markdown",
   "id": "24a2233d",
   "metadata": {},
   "source": [
    "Ans. :- pip stands for \"Pip Install Packages\" in Python."
   ]
  },
  {
   "cell_type": "markdown",
   "id": "90c3b2fe",
   "metadata": {},
   "source": [
    "# Q(11). Mention a few built-in functions in python?"
   ]
  },
  {
   "cell_type": "markdown",
   "id": "781fe122",
   "metadata": {},
   "source": [
    "Ans. :- Few built-in functions in Python are: "
   ]
  },
  {
   "cell_type": "markdown",
   "id": "95774ba0",
   "metadata": {},
   "source": [
    "• print(), type(), int(), float(), str(), len(), list(), tuple(), dict(), set(), bool(), max(), min()  etc."
   ]
  },
  {
   "cell_type": "markdown",
   "id": "424b907e",
   "metadata": {},
   "source": [
    "# Q(12). What is the maximum possible length of an identifier in Python?"
   ]
  },
  {
   "cell_type": "markdown",
   "id": "c050e270",
   "metadata": {},
   "source": [
    "Ans. :- The maximum possible length of an identifier in Python is 79 characters."
   ]
  },
  {
   "cell_type": "markdown",
   "id": "e0dba625",
   "metadata": {},
   "source": [
    "# Q(13). What are the benefits of using Python?"
   ]
  },
  {
   "cell_type": "markdown",
   "id": "e22e9300",
   "metadata": {},
   "source": [
    "Ans. : - Benefits of using Python are : "
   ]
  },
  {
   "cell_type": "markdown",
   "id": "66484386",
   "metadata": {},
   "source": [
    "• It's easy to use and learn."
   ]
  },
  {
   "cell_type": "markdown",
   "id": "b6c989f9",
   "metadata": {},
   "source": [
    "• Free and Open-Source."
   ]
  },
  {
   "cell_type": "markdown",
   "id": "fb253279",
   "metadata": {},
   "source": [
    "• It has lots of libraries."
   ]
  },
  {
   "cell_type": "markdown",
   "id": "4b464cfc",
   "metadata": {},
   "source": [
    "• It is portable."
   ]
  },
  {
   "cell_type": "markdown",
   "id": "db8bd9e8",
   "metadata": {},
   "source": [
    "• It is an interpreted language, Here interpreted means it executes the code line by line."
   ]
  },
  {
   "cell_type": "markdown",
   "id": "ba14392b",
   "metadata": {},
   "source": [
    "# Q(14). How is memory managed in Python?"
   ]
  },
  {
   "cell_type": "markdown",
   "id": "a053d9ed",
   "metadata": {},
   "source": [
    "Ans. :- Memory management is the process of managing computer memory i.e, RAM(Random Access Memory) properly. It involves allocating a piece of memory at run-time to the program when the program requests it and freeing the allocated memory for re-use when the program no longer needs it."
   ]
  },
  {
   "cell_type": "markdown",
   "id": "7514b738",
   "metadata": {},
   "source": [
    "# Q(15). How to install Python on Windows and set path variables?"
   ]
  },
  {
   "cell_type": "markdown",
   "id": "9e9ceb77",
   "metadata": {},
   "source": [
    "Ans. :- Installation steps of Python are given below:"
   ]
  },
  {
   "cell_type": "markdown",
   "id": "eaeb6c2b",
   "metadata": {},
   "source": [
    "Step (1). First of all we will go to the official website of Python and then we will click on downloads section."
   ]
  },
  {
   "cell_type": "markdown",
   "id": "785a5cb5",
   "metadata": {},
   "source": [
    "Step(2). Here we will get the latest version of Python and then we will click on the \"downlaod python 3.11.3\"."
   ]
  },
  {
   "cell_type": "markdown",
   "id": "2e53cc07",
   "metadata": {},
   "source": [
    "Step(3). After downlaoding the file we will get an executable file in downloads section of our system.  "
   ]
  },
  {
   "cell_type": "markdown",
   "id": "f64d76bf",
   "metadata": {},
   "source": [
    "Step(4). Now we will double click on that executable file, then a new installation window will open.   "
   ]
  },
  {
   "cell_type": "markdown",
   "id": "ae7d2da8",
   "metadata": {},
   "source": [
    "Step(5). Now we will put checkmark on \"add python.exe to path\" and then click on \"Install Now\". "
   ]
  },
  {
   "cell_type": "markdown",
   "id": "a74063c7",
   "metadata": {},
   "source": [
    "Step(6). Now a pop up will appear then we will click on Yes. After that it will start installing Python."
   ]
  },
  {
   "cell_type": "markdown",
   "id": "4d3510ae",
   "metadata": {},
   "source": [
    "Step(7). Now we will click on finish."
   ]
  },
  {
   "cell_type": "markdown",
   "id": "e96c240f",
   "metadata": {},
   "source": [
    "# Q(16). Is indentation required in python?"
   ]
  },
  {
   "cell_type": "markdown",
   "id": "c544ac31",
   "metadata": {},
   "source": [
    "Ans. :- Indentation is very important to Python."
   ]
  }
 ],
 "metadata": {
  "kernelspec": {
   "display_name": "Python 3 (ipykernel)",
   "language": "python",
   "name": "python3"
  },
  "language_info": {
   "codemirror_mode": {
    "name": "ipython",
    "version": 3
   },
   "file_extension": ".py",
   "mimetype": "text/x-python",
   "name": "python",
   "nbconvert_exporter": "python",
   "pygments_lexer": "ipython3",
   "version": "3.10.9"
  }
 },
 "nbformat": 4,
 "nbformat_minor": 5
}
